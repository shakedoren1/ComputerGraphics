{
 "cells": [
  {
   "attachments": {},
   "cell_type": "markdown",
   "metadata": {
    "id": "GEn9K882F5Dt"
   },
   "source": [
    "# Overview\n",
    "Ray Rracing is a technique for generating an image by tracing the path of light through pixels in an image plane and simulating the effects of its encounters with virtual objects.\n",
    "\n",
    "The technique is capable of producing a very high degree of visual realism, usually higher than that of typical scanline rendering methods, but at a greater computational cost.\n",
    "\n",
    "The objective of this exercise is to implement a ray casting/tracing engine. A ray tracer shoots rays from the observer’s eye through a screen and into a scene of objects. It calculates the ray’s intersection with the objects, finds the nearest intersection and calculates the color of the surface according to its material and lighting conditions. _(This is the way you should think about it –\n",
    "this will help in your implementation)._"
   ]
  },
  {
   "attachments": {},
   "cell_type": "markdown",
   "metadata": {
    "id": "ngS-Xq3TGZvQ"
   },
   "source": [
    "## Grading\n",
    "- Pinhole Camera **7 points**\n",
    "- Display geometric primitives in space:\n",
    "  - Triangles **8 points**\n",
    "  - Diamonds 15 points\n",
    "  - Spheres 15 points\n",
    "- Basic lighting\n",
    "  - Ambient light **5 points**\n",
    "  - Directional Light source **7 Points**\n",
    "  - Spotlight **8 points**\n",
    "  - Simple materials (ambient, diffuse, specular...) **10 points**\n",
    "- Basic hard shadows **5 points**\n",
    "- Reflecting surfaces **10 points**\n",
    "- Create a scene of your own **10 points** with the instructions below – Be creative! Well thought-of scenes may get **<u>bonus points</u>** 😉\n",
    "- Refracting surfaces **5 points <u>bonus</u>**"
   ]
  },
  {
   "attachments": {},
   "cell_type": "markdown",
   "metadata": {
    "id": "yUz2L4rlH1TQ"
   },
   "source": [
    "## Guidelines\n",
    "\n",
    "- We provided you with some framework for you to work with - take adventage of the methods we implemented for you.\n",
    "- While you do not have to implement everything using our suggested helper methods, we are expecting that all the methods that are used in this example notebook will be implemented, and this will also allow you to test your code.\n",
    "- You may (and sometimes MUST) add parameters and arguments to methods and classes.\n",
    "- You may change and even overwrite other helper_classes.py classes and functions. However, you may find it easier to use it instead of going against it.\n",
    "- You are highly recommended to write a lot of helper functions in hw3. For example: Finding the closest object, Computing the color for a single light source, etc.\n",
    "- You may **not** change:\n",
    "     - base classes *LightSource* and *Object3D*\n",
    "     - arguments for the *render_scene* and *your_own_scene* functions.\n",
    "     - code written for you in this notebook.\n",
    "- You don't need to restart the notebook for every change in your code - just run the code snippet below before you start running any code in the notebook."
   ]
  },
  {
   "attachments": {},
   "cell_type": "markdown",
   "metadata": {},
   "source": [
    "## Tips & Guidelines\n",
    "\n",
    "- All light sources and 3D objects have similar functions and arguments in order to make your life easier while rendering. It doesn't mean you need to use all the arguments in every situation\n",
    "- There is a difference between how you treat every 3D Objects. You can differentiate of which class is each object with *isinstance()*\n",
    "- With barycentric coordinates test, you may want to use some epsilon as we are working with float values.\n",
    "- Using the exact intersection point may lead to bugs. After finding an intersection, choose a close point that is above the intersection point (Think - How can I shift a point \"above\" the surface? what is the direction?)\n",
    "- When testing, use lower rendering resultion (say $64\\times 64$) to save you time"
   ]
  },
  {
   "cell_type": "markdown",
   "metadata": {
    "id": "HCGZy9xfUYLK"
   },
   "source": [
    "# Scene Examples\n",
    "\n",
    "We provided you with some ready scenes to validate your answers. The scenes are in an increasing implementation levels, so we recommend you to implement the code according to the scenes."
   ]
  },
  {
   "cell_type": "code",
   "execution_count": 13,
   "metadata": {},
   "outputs": [
    {
     "name": "stdout",
     "output_type": "stream",
     "text": [
      "The autoreload extension is already loaded. To reload it, use:\n",
      "  %reload_ext autoreload\n"
     ]
    }
   ],
   "source": [
    "# This small code snippet will allow you to change your python file without resetting the kernel\n",
    "\n",
    "%load_ext autoreload\n",
    "%autoreload 2"
   ]
  },
  {
   "cell_type": "code",
   "execution_count": 14,
   "metadata": {},
   "outputs": [],
   "source": [
    "# Tip: for debuging, use lower resolution for faster rendering\n",
    "\n",
    "# RENDER_RESOLUTION = (256,256)\n",
    "# RENDER_RESOLUTION = (128,128)\n",
    "RENDER_RESOLUTION = (64,64)"
   ]
  },
  {
   "cell_type": "markdown",
   "metadata": {
    "id": "JujmyDnzVjzw"
   },
   "source": [
    "## Scene 1: Hello Ray Tracing!\n",
    "\n",
    "In this scene we render two planes with different colors. You can test this scene to check if your camera and colors are working correctly.\n",
    "\n",
    "![](scenes/scene1.png)"
   ]
  },
  {
   "cell_type": "code",
   "execution_count": 15,
   "metadata": {
    "id": "wC4SfjF-Vi2w"
   },
   "outputs": [
    {
     "data": {
      "image/png": "[encoded data removed]",
      "text/plain": [
       "<Figure size 640x480 with 1 Axes>"
      ]
     },
     "metadata": {},
     "output_type": "display_data"
    }
   ],
   "source": [
    "from hw3 import *\n",
    "\n",
    "plane_a = Plane([0,1,0],[0,-1,0])\n",
    "plane_a.set_material([0.3, 0.5, 1], [0.3, 0.5, 1], [1, 1, 1], 100, 0.5)\n",
    "plane_b = Plane([0,0,1], [0,0,-3])\n",
    "plane_b.set_material([0, 0.5, 0], [0, 1, 0], [1, 1, 1], 100, 0.5)\n",
    "\n",
    "\n",
    "objects = [plane_a, plane_b]\n",
    "\n",
    "light = PointLight(intensity= np.array([1, 1, 1]),position=np.array([1,1,1]),kc=0.1,kl=0.1,kq=0.1)\n",
    "\n",
    "lights = [light]\n",
    "\n",
    "ambient = np.array([0.1,0.1,0.1])\n",
    "\n",
    "camera = np.array([0,0,1])\n",
    "\n",
    "im = render_scene(camera, ambient, lights, objects, RENDER_RESOLUTION, 1)\n",
    "plt.imshow(im)\n",
    "plt.imsave('scene1.png', im)"
   ]
  },
  {
   "attachments": {},
   "cell_type": "markdown",
   "metadata": {},
   "source": [
    "## Scene 2 - Triangles and Shadows\n",
    "\n",
    "This scene adds a single triangle on the background of a plane. Because of its position, it will also cast shadow on the plane.\n",
    "The lighting is Directional\n",
    "\n",
    "![](scenes/scene2.png)"
   ]
  },
  {
   "cell_type": "code",
   "execution_count": 16,
   "metadata": {},
   "outputs": [
    {
     "ename": "NameError",
     "evalue": "name 'Triangle' is not defined",
     "output_type": "error",
     "traceback": [
      "\u001b[1;31m---------------------------------------------------------------------------\u001b[0m",
      "\u001b[1;31mNameError\u001b[0m                                 Traceback (most recent call last)",
      "Cell \u001b[1;32mIn[16], line 8\u001b[0m\n\u001b[0;32m      2\u001b[0m \u001b[38;5;28;01mfrom\u001b[39;00m \u001b[38;5;21;01mhelper_classes\u001b[39;00m \u001b[38;5;28;01mimport\u001b[39;00m \u001b[38;5;241m*\u001b[39m\n\u001b[0;32m      4\u001b[0m v_list \u001b[38;5;241m=\u001b[39m np\u001b[38;5;241m.\u001b[39marray([[\u001b[38;5;241m-\u001b[39m\u001b[38;5;241m1\u001b[39m,\u001b[38;5;241m0\u001b[39m,\u001b[38;5;241m-\u001b[39m\u001b[38;5;241m1\u001b[39m],\n\u001b[0;32m      5\u001b[0m                    [\u001b[38;5;241m1\u001b[39m,\u001b[38;5;241m0\u001b[39m,\u001b[38;5;241m-\u001b[39m\u001b[38;5;241m1\u001b[39m],\n\u001b[0;32m      6\u001b[0m                    [\u001b[38;5;241m0\u001b[39m,\u001b[38;5;241m1.5\u001b[39m,\u001b[38;5;241m-\u001b[39m\u001b[38;5;241m1.5\u001b[39m]])\n\u001b[1;32m----> 8\u001b[0m triangle \u001b[38;5;241m=\u001b[39m \u001b[43mTriangle\u001b[49m(\u001b[38;5;241m*\u001b[39mv_list)\n\u001b[0;32m      9\u001b[0m triangle\u001b[38;5;241m.\u001b[39mset_material([\u001b[38;5;241m1\u001b[39m, \u001b[38;5;241m0\u001b[39m, \u001b[38;5;241m0\u001b[39m], [\u001b[38;5;241m1\u001b[39m, \u001b[38;5;241m0\u001b[39m, \u001b[38;5;241m0\u001b[39m], [\u001b[38;5;241m0\u001b[39m, \u001b[38;5;241m0\u001b[39m, \u001b[38;5;241m0\u001b[39m], \u001b[38;5;241m100\u001b[39m, \u001b[38;5;241m0.5\u001b[39m)\n\u001b[0;32m     11\u001b[0m plane \u001b[38;5;241m=\u001b[39m Plane([\u001b[38;5;241m0\u001b[39m,\u001b[38;5;241m0\u001b[39m,\u001b[38;5;241m1\u001b[39m], [\u001b[38;5;241m0\u001b[39m,\u001b[38;5;241m0\u001b[39m,\u001b[38;5;241m-\u001b[39m\u001b[38;5;241m4\u001b[39m])\n",
      "\u001b[1;31mNameError\u001b[0m: name 'Triangle' is not defined"
     ]
    }
   ],
   "source": [
    "from hw3 import *\n",
    "from helper_classes import *\n",
    "\n",
    "v_list = np.array([[-1,0,-1],\n",
    "                   [1,0,-1],\n",
    "                   [0,1.5,-1.5]])\n",
    "\n",
    "triangle = Triangle(*v_list)\n",
    "triangle.set_material([1, 0, 0], [1, 0, 0], [0, 0, 0], 100, 0.5)\n",
    "\n",
    "plane = Plane([0,0,1], [0,0,-4])\n",
    "plane.set_material([0, 0.5, 0], [0, 1, 0], [.1, .1, .1], 100, 0.5)\n",
    "\n",
    "\n",
    "objects = [triangle, plane]\n",
    "\n",
    "light = DirectionalLight(intensity= np.array([1, 1, 1]), direction=np.array([1,1,1]))\n",
    "\n",
    "lights = [light]\n",
    "\n",
    "ambient = np.array([0.1,0.1,0.1])\n",
    "\n",
    "camera = np.array([0,0,1])\n",
    "\n",
    "im = render_scene(camera, ambient, lights, objects, RENDER_RESOLUTION, 1)\n",
    "plt.imshow(im)\n",
    "plt.imsave('scene2.png', im)"
   ]
  },
  {
   "attachments": {},
   "cell_type": "markdown",
   "metadata": {},
   "source": [
    "## Scene 3 - Diamond with Reflections\n",
    "\n",
    "This scene includes two planes (a background and a floor) and a diamond with light reflections on plane.\n",
    "\n",
    "![](scenes/scene3.png)"
   ]
  },
  {
   "cell_type": "code",
   "execution_count": 17,
   "metadata": {
    "scrolled": true
   },
   "outputs": [
    {
     "ename": "NameError",
     "evalue": "name 'Pyramid' is not defined",
     "output_type": "error",
     "traceback": [
      "\u001b[1;31m---------------------------------------------------------------------------\u001b[0m",
      "\u001b[1;31mNameError\u001b[0m                                 Traceback (most recent call last)",
      "Cell \u001b[1;32mIn[17], line 13\u001b[0m\n\u001b[0;32m      2\u001b[0m \u001b[38;5;28;01mfrom\u001b[39;00m \u001b[38;5;21;01mhelper_classes\u001b[39;00m \u001b[38;5;28;01mimport\u001b[39;00m \u001b[38;5;241m*\u001b[39m\n\u001b[0;32m      4\u001b[0m v_list \u001b[38;5;241m=\u001b[39m np\u001b[38;5;241m.\u001b[39marray(\n\u001b[0;32m      5\u001b[0m [\n\u001b[0;32m      6\u001b[0m     [\u001b[38;5;241m-\u001b[39m\u001b[38;5;241m0.5\u001b[39m, \u001b[38;5;241m-\u001b[39m\u001b[38;5;241m0.142\u001b[39m, \u001b[38;5;241m-\u001b[39m\u001b[38;5;241m0.998\u001b[39m],\n\u001b[1;32m   (...)\u001b[0m\n\u001b[0;32m     10\u001b[0m     [\u001b[38;5;241m0.23\u001b[39m, \u001b[38;5;241m-\u001b[39m\u001b[38;5;241m0.833\u001b[39m, \u001b[38;5;241m-\u001b[39m\u001b[38;5;241m0.591\u001b[39m]\n\u001b[0;32m     11\u001b[0m ])\n\u001b[1;32m---> 13\u001b[0m diamond \u001b[38;5;241m=\u001b[39m \u001b[43mPyramid\u001b[49m(v_list)\n\u001b[0;32m     14\u001b[0m diamond\u001b[38;5;241m.\u001b[39mset_material([\u001b[38;5;241m0.1\u001b[39m, \u001b[38;5;241m0.4\u001b[39m, \u001b[38;5;241m0.7\u001b[39m], [\u001b[38;5;241m0.1\u001b[39m, \u001b[38;5;241m0.4\u001b[39m, \u001b[38;5;241m0.7\u001b[39m], [\u001b[38;5;241m0.3\u001b[39m, \u001b[38;5;241m0.3\u001b[39m, \u001b[38;5;241m0.3\u001b[39m], \u001b[38;5;241m10\u001b[39m, \u001b[38;5;241m0.5\u001b[39m)\n\u001b[0;32m     15\u001b[0m diamond\u001b[38;5;241m.\u001b[39mapply_materials_to_triangles()\n",
      "\u001b[1;31mNameError\u001b[0m: name 'Pyramid' is not defined"
     ]
    }
   ],
   "source": [
    "from hw3 import *\n",
    "from helper_classes import *\n",
    "\n",
    "v_list = np.array(\n",
    "[\n",
    "    [-0.5, -0.142, -0.998],\n",
    "    [-0.034, 0.092, -0.145],\n",
    "    [0.484, 0.031, -0.998],\n",
    "    [-0.104, 0.851, -0.828],\n",
    "    [0.23, -0.833, -0.591]\n",
    "])\n",
    "\n",
    "diamond = Pyramid(v_list)\n",
    "diamond.set_material([0.1, 0.4, 0.7], [0.1, 0.4, 0.7], [0.3, 0.3, 0.3], 10, 0.5)\n",
    "diamond.apply_materials_to_triangles()\n",
    "\n",
    "plane = Plane([0,1,0], [0,-1,0])\n",
    "plane.set_material([0.2, 0.2, 0.2], [0.2, 0.2, 0.2], [1, 1, 1], 1000, 0.5)\n",
    "background = Plane([0,0,1], [0,0,-30])\n",
    "background.set_material([1, 0.3, 0.3], [1, 0.3, 0.3], [0.2, 0.2, 0.2], 10, 0.5)\n",
    "\n",
    "\n",
    "objects = [diamond, background, plane]\n",
    "\n",
    "light = PointLight(intensity=np.array([1, 1, 1]), position=np.array([0,1,1]), kc=0.1, kl=0.1, kq=0.1)\n",
    "\n",
    "lights = [light]\n",
    "\n",
    "ambient = np.array([0.1,0.1,0.1])\n",
    "\n",
    "camera = np.array([0,0,1])\n",
    "\n",
    "im = render_scene(camera, ambient, lights, objects, RENDER_RESOLUTION, 3)\n",
    "plt.imshow(im)\n",
    "plt.imsave('scene3.png', im)"
   ]
  },
  {
   "cell_type": "markdown",
   "metadata": {},
   "source": [
    "## Scene 4 - Sphere with reflections\n",
    "\n",
    "This scene has two spheres with different colors.\n",
    "\n",
    "![](scenes/scene4.png)"
   ]
  },
  {
   "cell_type": "code",
   "execution_count": 18,
   "metadata": {},
   "outputs": [
    {
     "data": {
      "image/png": "[encoded data removed]",
      "text/plain": [
       "<Figure size 640x480 with 1 Axes>"
      ]
     },
     "metadata": {},
     "output_type": "display_data"
    }
   ],
   "source": [
    "from hw3 import *\n",
    "\n",
    "sphere_a = Sphere([-0.5, 0.2, -1],0.5)\n",
    "sphere_a.set_material([1, 0, 0], [1, 0, 0], [0.3, 0.3, 0.3], 100, 1)\n",
    "sphere_b = Sphere([0.8, 0, -0.5],0.3)\n",
    "sphere_b.set_material([0, 1, 0], [0, 1, 0], [0.3, 0.3, 0.3], 100, 0.2)\n",
    "plane = Plane([0,1,0], [0,-0.3,0])\n",
    "plane.set_material([0.2, 0.2, 0.2], [0.2, 0.2, 0.2], [1, 1, 1], 1000, 0.5)\n",
    "background = Plane([0,0,1], [0,0,-3])\n",
    "background.set_material([0.2, 0.2, 0.2], [0.2, 0.2, 0.2], [0.2, 0.2, 0.2], 1000, 0.5)\n",
    "\n",
    "\n",
    "objects = [sphere_a,sphere_b,plane,background]\n",
    "\n",
    "light = PointLight(intensity= np.array([1, 1, 1]),position=np.array([1,1.5,1]),kc=0.1,kl=0.1,kq=0.1)\n",
    "\n",
    "lights = [light]\n",
    "\n",
    "ambient = np.array([0.1,0.2,0.3])\n",
    "\n",
    "camera = np.array([0,0,1])\n",
    "\n",
    "im = render_scene(camera, ambient, lights, objects, RENDER_RESOLUTION, 3)\n",
    "plt.imshow(im)\n",
    "plt.imsave('scene4.png', im)"
   ]
  },
  {
   "cell_type": "markdown",
   "metadata": {},
   "source": [
    "## Scene 5 - Different Lighting\n",
    "This scene has 3 light sources, each one in different color, and a white background.\n",
    "\n",
    "![](scenes/scene5.png)"
   ]
  },
  {
   "cell_type": "code",
   "execution_count": 19,
   "metadata": {},
   "outputs": [
    {
     "data": {
      "image/png": "[encoded data removed]",
      "text/plain": [
       "<Figure size 640x480 with 1 Axes>"
      ]
     },
     "metadata": {},
     "output_type": "display_data"
    }
   ],
   "source": [
    "from hw3 import *\n",
    "\n",
    "background = Plane([0,0,1], [0,0,-1])\n",
    "background.set_material([1, 1, 1], [1, 1, 1], [1, 1, 1], 1000, 0.5)\n",
    "\n",
    "\n",
    "objects = [background]\n",
    "\n",
    "light_a = SpotLight(intensity= np.array([0, 0, 1]),position=np.array([0.5,0.5,0]), direction=([0,0,1]),\n",
    "                    kc=0.1,kl=0.1,kq=0.1)\n",
    "light_b = SpotLight(intensity= np.array([0, 1, 0]),position=np.array([-0.5,0.5,0]), direction=([0,0,1]),\n",
    "                    kc=0.1,kl=0.1,kq=0.1)\n",
    "light_c = SpotLight(intensity= np.array([1, 0, 0]),position=np.array([0,-0.5,0]), direction=([0,0,1]),\n",
    "                    kc=0.1,kl=0.1,kq=0.1)\n",
    "\n",
    "lights = [light_a,light_b,light_c]\n",
    "\n",
    "ambient = np.array([0,0,0])\n",
    "\n",
    "camera = np.array([0,0,1])\n",
    "\n",
    "im = render_scene(camera, ambient, lights, objects, RENDER_RESOLUTION, 3)\n",
    "plt.imshow(im)\n",
    "plt.imsave('scene5.png', im)"
   ]
  },
  {
   "cell_type": "markdown",
   "metadata": {},
   "source": [
    "## Scene 6 - Your own scene!\n",
    "\n",
    "This is your chance to be creative - create an interesting scene!\n",
    "\n",
    "Your scene has to have:\n",
    "- At least 2 different light sources\n",
    "- Plane + At least 2 different 3D Objects\n",
    "\n",
    "Well thought-of scenes may reward bonus points!"
   ]
  },
  {
   "cell_type": "code",
   "execution_count": 20,
   "metadata": {},
   "outputs": [
    {
     "ename": "ValueError",
     "evalue": "operands could not be broadcast together with shapes (3,) (2,) ",
     "output_type": "error",
     "traceback": [
      "\u001b[1;31m---------------------------------------------------------------------------\u001b[0m",
      "\u001b[1;31mValueError\u001b[0m                                Traceback (most recent call last)",
      "Cell \u001b[1;32mIn[20], line 6\u001b[0m\n\u001b[0;32m      3\u001b[0m ambient \u001b[38;5;241m=\u001b[39m np\u001b[38;5;241m.\u001b[39marray([\u001b[38;5;241m0\u001b[39m,\u001b[38;5;241m0\u001b[39m,\u001b[38;5;241m0\u001b[39m])\n\u001b[0;32m      4\u001b[0m camera, lights, objects \u001b[38;5;241m=\u001b[39m your_own_scene()\n\u001b[1;32m----> 6\u001b[0m im \u001b[38;5;241m=\u001b[39m \u001b[43mrender_scene\u001b[49m\u001b[43m(\u001b[49m\u001b[43mcamera\u001b[49m\u001b[43m,\u001b[49m\u001b[43m \u001b[49m\u001b[43mlights\u001b[49m\u001b[43m,\u001b[49m\u001b[43m \u001b[49m\u001b[43mambient\u001b[49m\u001b[43m,\u001b[49m\u001b[43m \u001b[49m\u001b[43mobjects\u001b[49m\u001b[43m,\u001b[49m\u001b[43m \u001b[49m\u001b[43mRENDER_RESOLUTION\u001b[49m\u001b[43m,\u001b[49m\u001b[43m \u001b[49m\u001b[38;5;241;43m3\u001b[39;49m\u001b[43m)\u001b[49m\n\u001b[0;32m      7\u001b[0m plt\u001b[38;5;241m.\u001b[39mimshow(im)\n\u001b[0;32m      8\u001b[0m plt\u001b[38;5;241m.\u001b[39mimsave(\u001b[38;5;124m'\u001b[39m\u001b[38;5;124mscene6.png\u001b[39m\u001b[38;5;124m'\u001b[39m, im)\n",
      "File \u001b[1;32mc:\\Users\\shake\\University\\ComputerGraphics\\graphicsEnv\\ex03\\reference\\hw3.py:41\u001b[0m, in \u001b[0;36mrender_scene\u001b[1;34m(camera, ambient, lights, objects, screen_size, max_depth)\u001b[0m\n\u001b[0;32m     38\u001b[0m shifted_point \u001b[38;5;241m=\u001b[39m intersection_point \u001b[38;5;241m+\u001b[39m SHIFT_CONST \u001b[38;5;241m*\u001b[39m normal_to_surface\n\u001b[0;32m     40\u001b[0m \u001b[38;5;66;03m# 3. get color\u001b[39;00m\n\u001b[1;32m---> 41\u001b[0m illumination \u001b[38;5;241m=\u001b[39m \u001b[43mcalc_color\u001b[49m\u001b[43m(\u001b[49m\u001b[43mnearest_object\u001b[49m\u001b[43m,\u001b[49m\u001b[43m \u001b[49m\u001b[43mshifted_point\u001b[49m\u001b[43m,\u001b[49m\u001b[43m \u001b[49m\u001b[43mlights\u001b[49m\u001b[43m,\u001b[49m\u001b[43m \u001b[49m\u001b[43mobjects\u001b[49m\u001b[43m,\u001b[49m\u001b[43m \u001b[49m\u001b[43mcamera\u001b[49m\u001b[43m,\u001b[49m\u001b[43m \u001b[49m\u001b[43mambient\u001b[49m\u001b[43m,\u001b[49m\u001b[43m \u001b[49m\u001b[43mnormal_to_surface\u001b[49m\u001b[43m)\u001b[49m\n\u001b[0;32m     42\u001b[0m \u001b[38;5;66;03m# reflection\u001b[39;00m\n\u001b[0;32m     43\u001b[0m color \u001b[38;5;241m+\u001b[39m\u001b[38;5;241m=\u001b[39m reflection \u001b[38;5;241m*\u001b[39m illumination\n",
      "File \u001b[1;32mc:\\Users\\shake\\University\\ComputerGraphics\\graphicsEnv\\ex03\\reference\\hw3.py:64\u001b[0m, in \u001b[0;36mcalc_color\u001b[1;34m(nearest_object, intersection_point, lights, objects, camera, ambient, normal_to_surface)\u001b[0m\n\u001b[0;32m     62\u001b[0m color \u001b[38;5;241m=\u001b[39m np\u001b[38;5;241m.\u001b[39mzeros((\u001b[38;5;241m3\u001b[39m))\n\u001b[0;32m     63\u001b[0m \u001b[38;5;66;03m# ambiant\u001b[39;00m\n\u001b[1;32m---> 64\u001b[0m color \u001b[38;5;241m+\u001b[39m\u001b[38;5;241m=\u001b[39m \u001b[43mnearest_object\u001b[49m\u001b[38;5;241;43m.\u001b[39;49m\u001b[43mambient\u001b[49m\u001b[43m \u001b[49m\u001b[38;5;241;43m*\u001b[39;49m\u001b[43m \u001b[49m\u001b[43mambient\u001b[49m\n\u001b[0;32m     65\u001b[0m \u001b[38;5;28;01mfor\u001b[39;00m light_source \u001b[38;5;129;01min\u001b[39;00m lights:\n\u001b[0;32m     66\u001b[0m     is_shadowed \u001b[38;5;241m=\u001b[39m is_occluded_by(light_source, intersection_point, objects)\n",
      "\u001b[1;31mValueError\u001b[0m: operands could not be broadcast together with shapes (3,) (2,) "
     ]
    }
   ],
   "source": [
    "from hw3 import *\n",
    "\n",
    "ambient = np.array([0,0,0])\n",
    "camera, lights, objects = your_own_scene()\n",
    "\n",
    "im = render_scene(camera, lights, ambient, objects, RENDER_RESOLUTION, 3)\n",
    "plt.imshow(im)\n",
    "plt.imsave('scene6.png', im)"
   ]
  },
  {
   "cell_type": "markdown",
   "metadata": {},
   "source": [
    "## Bonus Points"
   ]
  },
  {
   "cell_type": "markdown",
   "metadata": {},
   "source": [
    "### Refraction\n",
    "\n",
    "Look into Snell’s law: http://en.wikipedia.org/wiki/Snell's_law\n",
    "Refractive index table: http://en.wikipedia.org/wiki/List_of_refractive_indices"
   ]
  }
 ],
 "metadata": {
  "colab": {
   "name": "Exercise 3 - Ray Tracing.ipynb",
   "provenance": []
  },
  "kernelspec": {
   "display_name": "Python 3 (ipykernel)",
   "language": "python",
   "name": "python3"
  },
  "language_info": {
   "codemirror_mode": {
    "name": "ipython",
    "version": 3
   },
   "file_extension": ".py",
   "mimetype": "text/x-python",
   "name": "python",
   "nbconvert_exporter": "python",
   "pygments_lexer": "ipython3",
   "version": "3.10.8"
  }
 },
 "nbformat": 4,
 "nbformat_minor": 1
}
